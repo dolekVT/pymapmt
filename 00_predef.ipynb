{
 "cells": [
  {
   "cell_type": "code",
   "execution_count": 3,
   "id": "10ab644d-6c30-45fe-9dd9-bc2e2b406d9d",
   "metadata": {},
   "outputs": [],
   "source": [
    "import matplotlib as mpl\n",
    "from pylab import rcParams\n",
    "\n",
    "rcParams['figure.figsize'] = 10, 8\n",
    "rcParams.update({'figure.max_open_warning': 0, 'font.size': 14, 'axes.titlesize': 14,\n",
    "                 'axes.labelsize': 14, 'axes.grid':True, 'xtick.direction': 'in', 'ytick.direction': 'in',\n",
    "                 'ytick.right': True, 'xtick.top':True, 'ytick.major.size': 10, 'xtick.major.size': 10,\n",
    "                 'legend.fancybox': True, 'legend.markerscale': 0.8, 'legend.handlelength': 5.0})\n",
    "\n",
    "mpl.rcParams['grid.linestyle'] = '-.'\n",
    "\n",
    "colors = [\"#1f77b4\", \"#ff7f0e\", \"#2ca02c\", \"#d62728\", \"#9467bd\", \"#8c564b\", \"#e377c2\", \"#7f7f7f\", \"#bcbd22\", \"#17becf\"]\n",
    "#colors = [\"#66D9EF\", \"#FD971F\", \"#A6E22E\", \"#F92672\", \"#AE81FF\", \"#F8F8F2\", \"#F92672\", \"#A6E22E\", \"#F4BF75\", \"#66D9EF\"]\n",
    "#colors = [\"#80D4FF\", \"#FFB86C\", \"#50C16E\", \"#FF5454\", \"#BD85D3\", \"#FEBD2F\", \"#FD94FC\", \"#A9A9A9\", \"#B7E020\", \"#00E0E0\"]\n",
    "\n",
    "mpl.rcParams['axes.prop_cycle'] = mpl.cycler(color=colors)"
   ]
  },
  {
   "cell_type": "code",
   "execution_count": 7,
   "id": "d9937ecb-14e0-46f5-97f8-5fa17407e0f0",
   "metadata": {},
   "outputs": [],
   "source": [
    "def plot_histograms(channels, mod_masks, bin_range, bin_width):\n",
    "    fig, ax = plt.subplots()\n",
    "    fig.set_size_inches(5, 5)\n",
    "\n",
    "    for mod_mask in mod_masks:\n",
    "        hist, bin_edges = np.histogram(channels[:, mod_mask].flatten(), bins=int((bin_range[1]-bin_range[0])/bin_width), range=bin_range)\n",
    "        plt.step(bin_edges[:-1], hist, where='mid')\n",
    "\n",
    "    plt.xlabel('Icharge')\n",
    "    plt.ylabel('Counts')\n",
    "    ax.set_yscale('log')\n",
    "    plt.show()"
   ]
  },
  {
   "cell_type": "code",
   "execution_count": 2,
   "id": "14ffca53-44cf-4bfb-875a-87328e6ae656",
   "metadata": {},
   "outputs": [],
   "source": [
    "import os\n",
    "import uproot\n",
    "import awkward as ak\n",
    "import numpy as np\n",
    "import re"
   ]
  },
  {
   "cell_type": "code",
   "execution_count": 3,
   "id": "efe2f751-2bd2-4f8e-bfa8-860992a9a128",
   "metadata": {},
   "outputs": [
    {
     "name": "stdout",
     "output_type": "stream",
     "text": [
      "/home/fdolek/work/data/baseline_35.root\n"
     ]
    }
   ],
   "source": [
    "# Define the path to the directory containing the ROOT files\n",
    "data_dir = '/home/fdolek/work/data/'\n",
    "\n",
    "# Get a list of all ROOT files in the directory\n",
    "root_files = [os.path.join(data_dir, f) for f in os.listdir(data_dir) if f.endswith('.root')]\n",
    "\n",
    "# Process all files or just a single file\n",
    "process_all_files = False\n",
    "single_file_name = 'baseline_35.root'\n",
    "\n",
    "for root_file in root_files:\n",
    "    if not process_all_files and os.path.basename(root_file) != single_file_name:\n",
    "        continue\n",
    "    print(root_file)    \n",
    "    ###################### Your code here##################################\n",
    "    \n",
    "    all_arrays = []\n",
    "    file = uproot.open(root_file)\n",
    "    tree = file[\"ntuple_sig\"]\n",
    "    all_data = tree.arrays()\n",
    "    all_arrays += [ak.to_numpy(all_data[branch]) for branch in tree.keys()]\n",
    "\n",
    "    # Stack arrays horizontally\n",
    "    all_arrays_stacked = np.vstack(all_arrays)\n",
    "\n",
    "    smodule= all_arrays_stacked[64]\n",
    "    channels=all_arrays_stacked[:64]\n",
    "        \n",
    "    mod1 = smodule == 1\n",
    "    mod2 = smodule == 2\n",
    "    mod3 = smodule == 3\n",
    "    mod7 = smodule == 7\n",
    "    base1= np.mean(channels[:, mod1], axis=1)\n",
    "    base2= np.mean(channels[:, mod2], axis=1)\n",
    "    base3= np.mean(channels[:, mod3], axis=1)\n",
    "    base7= np.mean(channels[:, mod7], axis=1)"
   ]
  },
  {
   "cell_type": "code",
   "execution_count": null,
   "id": "d2211799-5f4f-4b06-a9cb-a40b38b561eb",
   "metadata": {},
   "outputs": [],
   "source": []
  }
 ],
 "metadata": {
  "kernelspec": {
   "display_name": "Python 3 (ipykernel)",
   "language": "python",
   "name": "python3"
  },
  "language_info": {
   "codemirror_mode": {
    "name": "ipython",
    "version": 3
   },
   "file_extension": ".py",
   "mimetype": "text/x-python",
   "name": "python",
   "nbconvert_exporter": "python",
   "pygments_lexer": "ipython3",
   "version": "3.8.16"
  }
 },
 "nbformat": 4,
 "nbformat_minor": 5
}
