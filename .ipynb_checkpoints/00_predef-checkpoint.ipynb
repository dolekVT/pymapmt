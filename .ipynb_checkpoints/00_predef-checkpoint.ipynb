{
 "cells": [
  {
   "cell_type": "code",
   "execution_count": 3,
   "id": "10ab644d-6c30-45fe-9dd9-bc2e2b406d9d",
   "metadata": {},
   "outputs": [],
   "source": [
    "import matplotlib as mpl\n",
    "from pylab import rcParams\n",
    "\n",
    "rcParams['figure.figsize'] = 10, 8\n",
    "rcParams.update({'figure.max_open_warning': 0, 'font.size': 14, 'axes.titlesize': 14,\n",
    "                 'axes.labelsize': 14, 'axes.grid':True, 'xtick.direction': 'in', 'ytick.direction': 'in',\n",
    "                 'ytick.right': True, 'xtick.top':True, 'ytick.major.size': 10, 'xtick.major.size': 10,\n",
    "                 'legend.fancybox': True, 'legend.markerscale': 0.8, 'legend.handlelength': 5.0})\n",
    "\n",
    "mpl.rcParams['grid.linestyle'] = '-.'\n",
    "\n",
    "colors = [\"#1f77b4\", \"#ff7f0e\", \"#2ca02c\", \"#d62728\", \"#9467bd\", \"#8c564b\", \"#e377c2\", \"#7f7f7f\", \"#bcbd22\", \"#17becf\"]\n",
    "#colors = [\"#66D9EF\", \"#FD971F\", \"#A6E22E\", \"#F92672\", \"#AE81FF\", \"#F8F8F2\", \"#F92672\", \"#A6E22E\", \"#F4BF75\", \"#66D9EF\"]\n",
    "#colors = [\"#80D4FF\", \"#FFB86C\", \"#50C16E\", \"#FF5454\", \"#BD85D3\", \"#FEBD2F\", \"#FD94FC\", \"#A9A9A9\", \"#B7E020\", \"#00E0E0\"]\n",
    "\n",
    "mpl.rcParams['axes.prop_cycle'] = mpl.cycler(color=colors)"
   ]
  },
  {
   "cell_type": "code",
   "execution_count": 7,
   "id": "d9937ecb-14e0-46f5-97f8-5fa17407e0f0",
   "metadata": {},
   "outputs": [],
   "source": [
    "def plot_histograms(channels, mod_masks, bin_range, bin_width):\n",
    "    fig, ax = plt.subplots()\n",
    "    fig.set_size_inches(5, 5)\n",
    "\n",
    "    for mod_mask in mod_masks:\n",
    "        hist, bin_edges = np.histogram(channels[:, mod_mask].flatten(), bins=int((bin_range[1]-bin_range[0])/bin_width), range=bin_range)\n",
    "        plt.step(bin_edges[:-1], hist, where='mid')\n",
    "\n",
    "    plt.xlabel('Icharge')\n",
    "    plt.ylabel('Counts')\n",
    "    ax.set_yscale('log')\n",
    "    plt.show()"
   ]
  },
  {
   "cell_type": "code",
   "execution_count": null,
   "id": "efe2f751-2bd2-4f8e-bfa8-860992a9a128",
   "metadata": {},
   "outputs": [],
   "source": []
  }
 ],
 "metadata": {
  "kernelspec": {
   "display_name": "Python 3 (ipykernel)",
   "language": "python",
   "name": "python3"
  },
  "language_info": {
   "codemirror_mode": {
    "name": "ipython",
    "version": 3
   },
   "file_extension": ".py",
   "mimetype": "text/x-python",
   "name": "python",
   "nbconvert_exporter": "python",
   "pygments_lexer": "ipython3",
   "version": "3.8.16"
  }
 },
 "nbformat": 4,
 "nbformat_minor": 5
}
